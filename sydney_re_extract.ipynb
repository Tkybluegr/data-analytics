{
 "cells": [
  {
   "cell_type": "markdown",
   "metadata": {},
   "source": [
    "## Sydney real estate analysis\n",
    "### Extract"
   ]
  },
  {
   "cell_type": "markdown",
   "metadata": {},
   "source": [
    "##### Imports packages"
   ]
  },
  {
   "cell_type": "code",
   "execution_count": null,
   "metadata": {},
   "outputs": [],
   "source": [
    "from email.mime import application\n",
    "from tkinter import W\n",
    "import requests\n",
    "import json\n",
    "import os.path\n",
    "import os\n",
    "import time\n",
    "import random\n",
    "\n",
    "import pandas as pd\n",
    "from pandasql import sqldf\n",
    "import csv"
   ]
  },
  {
   "cell_type": "code",
   "execution_count": null,
   "metadata": {},
   "outputs": [],
   "source": [
    "df = pd.read_csv ('australian_suburbs_1.csv')\n",
    "df = sqldf('''\n",
    "\n",
    "WITH betweened AS(\n",
    "\n",
    "    SELECT suburb\n",
    "         , state\n",
    "         , postcode\n",
    "         , lat\n",
    "         , lng\n",
    "      FROM df\n",
    "     WHERE state = 'NSW'\n",
    "       AND lat BETWEEN (-33.8708-0.9) AND (-33.8708+0.9)\n",
    "       AND lng BETWEEN (151.2073-0.9) AND (151.2073+0.9)\n",
    ")\n",
    "    SELECT SQRT((lat+33.8708)*(lat+33.8708) + (lng-151.2073)*(lng-151.2073))*110 AS distance\n",
    "         , *\n",
    "      FROM betweened\n",
    "     WHERE distance < 30\n",
    "     ORDER BY distance\n",
    "''')\n",
    "suburbs = df.to_dict('records')"
   ]
  },
  {
   "cell_type": "code",
   "execution_count": null,
   "metadata": {},
   "outputs": [],
   "source": [
    "# return suburb-state-postcode to form a url\n",
    "def get_subinfo(record):\n",
    "    suburb = record['suburb'].replace(' ', '-')\n",
    "    state = 'nsw'\n",
    "    postcode = record['postcode']\n",
    "    return f'{suburb}-{state}-{postcode}'\n",
    "\n",
    "# return suburb distance from cbd\n",
    "def get_dist(record):\n",
    "    return record['distance']\n",
    "    \n",
    "# return source url for a given suburb\n",
    "def get_url(suburb):\n",
    "    return f'https://www.source.com.au/sold-listings/{suburb}/?excludepricewithheld=1&ssubs=0'\n",
    "\n",
    "\n",
    "# return source url for a given suburb with page\n",
    "def get_page_url(suburb, page):\n",
    "    return f'https://www.source.com.au/sold-listings/{suburb}/?excludepricewithheld=1&ssubs=0&page={page}'\n",
    "\n",
    "headers = {\"User-Agent\": \"Mozilla/5.0 (Windows NT 10.0; Win64; x64) AppleWebKit/537.36 (KHTML, like Gecko) Chrome/98.0.4758.82 Safari/537.36\",'ACCEPT': 'application/json'}\n",
    "#return content\n",
    "def get_content(url):\n",
    "    return requests.get(url = url, headers=headers).text\n",
    "\n",
    "#load content to jsonloads\n",
    "def get_json(url):\n",
    "    return json.loads(requests.get(url = url, headers=headers).text)\n",
    "\n",
    "#write content into json file\n",
    "def write_file(file_name, content):\n",
    "    os.makedirs(os.path.dirname(file_name), exist_ok = True)\n",
    "    with open(file_name, \"w\") as f:\n",
    "        f.write(json.dumps(content)) \n",
    "\n",
    "#download the file if its not exist\n",
    "def download_or_not(file_name: str, url: str) -> str:\n",
    "    if os.path.isfile(file_name):\n",
    "        print(f\"Already has file: {file_name}\")\n",
    "    else: \n",
    "        content = get_json(url)\n",
    "        print(f\"Downloaded {url}\")\n",
    "        write_file(file_name, content)\n",
    "        time.sleep(random.randrange(10)*random.random())\n",
    "\n",
    "# return filename\n",
    "def json_file_name(suburb: str, page: int) -> str:\n",
    "    page_str = str(page).zfill(3)\n",
    "    return f\"download/www.source.com/{suburb}/page_{page}.json\"\n",
    "\n",
    "# Main function\n",
    "def download_suburbs(suburbs):\n",
    "    for record in suburbs:\n",
    "        suburb = get_subinfo(record)\n",
    "        path = f\"download/www.source.com/{suburb}\"\n",
    "        isexist = os.path.exists(path)\n",
    "        file_name = f\"download/www.source.com/{suburb}/page_50.json\"\n",
    "        filexist = os.path.isfile(file_name)\n",
    "#Do not send request if the fold exists and has 50 pages(max you can get from source)        \n",
    "        if isexist == False or filexist == False:\n",
    "            url = get_url(suburb)\n",
    "            total_page = get_json(url)['props']['totalPages']\n",
    "            print(get_dist(record))\n",
    "            print(total_page)\n",
    "            for page in range(1, total_page + 1):\n",
    "                download_or_not(json_file_name(suburb, page), get_page_url(suburb, page))\n",
    "        else:\n",
    "            print(f\"Already download suburb: {suburb}\")\n",
    "        time.sleep(random.randrange(10))"
   ]
  },
  {
   "cell_type": "code",
   "execution_count": null,
   "metadata": {},
   "outputs": [],
   "source": [
    "download_suburbs(suburbs)"
   ]
  }
 ],
 "metadata": {
  "kernelspec": {
   "display_name": "Python 3 (ipykernel)",
   "language": "python",
   "name": "python3"
  },
  "language_info": {
   "codemirror_mode": {
    "name": "ipython",
    "version": 3
   },
   "file_extension": ".py",
   "mimetype": "text/x-python",
   "name": "python",
   "nbconvert_exporter": "python",
   "pygments_lexer": "ipython3",
   "version": "3.9.7"
  }
 },
 "nbformat": 4,
 "nbformat_minor": 2
}
