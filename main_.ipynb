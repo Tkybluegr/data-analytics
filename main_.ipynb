{
 "cells": [
  {
   "cell_type": "markdown",
   "metadata": {},
   "source": [
    "## Table of Contents:\n",
    "\n",
    "1. [Introduction](#Introduction)\n",
    "2. [How expensive the house is getting?](#How-expensive-the-house-is-getting?)\n",
    "3. [Price distribution](#Price-distribution)\n",
    "4. [Location correlationship(to cbd)](#Location-correlationship)\n",
    "5. [So which suburbs should we target?](#So-which-suburbs-should-we-target?)\n",
    "6. [Conclusion](#Conclusion)"
   ]
  },
  {
   "cell_type": "markdown",
   "metadata": {},
   "source": [
    "## Introduction <a class=\"anchor\" id=\"Introduction\"></a>\n",
    "###### With a 1.6 million budget, my client is considering purchasing a single-family home in the Sydney region and wants to be close to CBD. Several questions need to be answered to help her make this decision.\n",
    "###### 1. Compare to previous years, how many more suburbs becoming unafordable? And where are those suburbs?\n",
    "###### 2. My client like to know if she has a good amount of options on the market with this budget and requirements.\n",
    "###### 3. She wants to know if houses close to CBD are necessarily more expensive than those that are not.\n",
    "###### 4. Suggestions?"
   ]
  },
  {
   "cell_type": "markdown",
   "metadata": {},
   "source": [
    "##### To answser these questions, there are some sources that I found and utlized in my report:\n",
    "###### Sales records provided by client.\n",
    "###### Suburbs information: https://github.com/michalsn/australian-suburbs\n",
    "###### Shape map of NSW: https://www.abs.gov.au/AUSSTATS/abs@.nsf/DetailsPage/1270.0.55.003July%202016?OpenDocument\n",
    "###### Train Station Entrance Locations https://opendata.transport.nsw.gov.au/dataset/train-station-entrance-locations\n",
    "\n",
    "###### Step 1: download data from source using Python.\n",
    "###### Code:  https://github.com/Tkybluegr/data-analytics/blob/main/sydney_re_extract.ipynb\n",
    "###### Step 2: Transform data, perform data wrangling add column to_cbd and to_train calculated distance to sydney cbd and sinceest train station respectively. (Using 33.8708 -151.2073 to represent cbd and train stration entrance coodinated downloaded from transport.nsw.gov.au)\n",
    "###### Code: https://github.com/Tkybluegr/data-analytics/blob/main/sydney_re_transform.ipynb\n",
    "###### Step 3: Loads data\n",
    "###### Code: https://github.com/Tkybluegr/data-analytics/blob/main/sydeny_re_load.ipynb"
   ]
  },
  {
   "cell_type": "markdown",
   "metadata": {},
   "source": [
    "## How expensive the house is getting? <a class=\"anchor\" id=\"How-expensive-the-house-is-getting\"></a>\n",
    "\n"
   ]
  },
  {
   "cell_type": "markdown",
   "metadata": {},
   "source": [
    "##### Improt modules and data"
   ]
  },
  {
   "cell_type": "code",
   "execution_count": 20,
   "metadata": {},
   "outputs": [],
   "source": [
    "import pandas as pd\n",
    "from pandasql import sqldf"
   ]
  },
  {
   "cell_type": "code",
   "execution_count": 21,
   "metadata": {},
   "outputs": [],
   "source": [
    "df = pd.read_csv(r'C:\\Users\\tyler\\DA_Tyler\\download\\www.xxxx.com\\all_csv\\sydney_data.csv')"
   ]
  },
  {
   "cell_type": "markdown",
   "metadata": {},
   "source": [
    "##### Use pandasql to run sql query. It can be found that suburbs with average price over 3 millions has increased from 35 (8.2%) to 106 (24.8%)."
   ]
  },
  {
   "cell_type": "code",
   "execution_count": 5,
   "metadata": {},
   "outputs": [
    {
     "name": "stdout",
     "output_type": "stream",
     "text": [
      "       date_cat  suburbs_count\n",
      "0     2018-2019             35\n",
      "1     2019-2020             44\n",
      "2     2020-2021             62\n",
      "3  2021-current            106\n"
     ]
    }
   ],
   "source": [
    "df_exp = sqldf ('''\n",
    "\n",
    "WITH enriched AS(\n",
    "    SELECT suburb\n",
    "        , price\n",
    "        , CASE WHEN sold_date BETWEEN '2018-03-30' AND '2019-03-31' THEN '2018-2019'\n",
    "                WHEN sold_date BETWEEN '2019-03-30' AND '2020-03-31' THEN '2019-2020'\n",
    "                WHEN sold_date BETWEEN '2020-03-30' AND '2021-03-31' THEN '2020-2021'\n",
    "                ELSE '2021-current'\n",
    "                END AS date_cat\n",
    "    FROM df\n",
    "    WHERE category = 'detached_house'\n",
    "      AND to_cbd < 30\n",
    "), avged AS(\n",
    "    SELECT suburb\n",
    "        , date_cat\n",
    "        , AVG(price) AS avg_price\n",
    "    FROM enriched\n",
    "    GROUP BY 1,2\n",
    "    HAVING avg_price > 3000000\n",
    ")\n",
    "SELECT date_cat\n",
    "     , COUNT(suburb) AS suburbs_count\n",
    "  FROM avged\n",
    " GROUP BY date_cat\n",
    "\n",
    "''')\n",
    "print(df_exp.head(10))"
   ]
  },
  {
   "cell_type": "code",
   "execution_count": 59,
   "metadata": {
    "scrolled": true
   },
   "outputs": [
    {
     "name": "stdout",
     "output_type": "stream",
     "text": [
      "       date_cat    percent\n",
      "0     2018-2019   8.196721\n",
      "1     2019-2020  10.304450\n",
      "2     2020-2021  14.519906\n",
      "3  2021-current  24.824356\n"
     ]
    }
   ],
   "source": [
    "df_percent = sqldf ('''\n",
    "\n",
    "SELECT date_cat\n",
    "     , CAST(suburbs_count AS FLOAT)/CAST((SELECT COUNT(DISTINCT suburb) FROM df WHERE to_cbd<30) AS FLOAT)*100 AS percent\n",
    "  FROM df_exp\n",
    "\n",
    "''')\n",
    "print(df_percent)"
   ]
  },
  {
   "cell_type": "markdown",
   "metadata": {},
   "source": [
    "##### Using Power BI to show where those suburbs are with shap map."
   ]
  },
  {
   "cell_type": "markdown",
   "metadata": {},
   "source": [
    "![2018-2019.png](https://i.ibb.co/KNRrCBn/2018-2022.png)"
   ]
  },
  {
   "cell_type": "markdown",
   "metadata": {},
   "source": [
    "## Price Distribution <a class=\"anchor\" id=\"Price-distribution\"></a>"
   ]
  },
  {
   "cell_type": "markdown",
   "metadata": {},
   "source": [
    "##### Import module, manipulating data for modelling."
   ]
  },
  {
   "cell_type": "code",
   "execution_count": 22,
   "metadata": {},
   "outputs": [],
   "source": [
    "from matplotlib import pyplot as plt\n",
    "plt.rcParams['figure.figsize'] = [30, 10]"
   ]
  },
  {
   "cell_type": "code",
   "execution_count": 23,
   "metadata": {},
   "outputs": [],
   "source": [
    "df_2 = df.copy()"
   ]
  },
  {
   "cell_type": "code",
   "execution_count": 24,
   "metadata": {},
   "outputs": [],
   "source": [
    "df_2.sort_values(['price'])\n",
    "labels = [\"{0} - {1}\".format(i, i + 100000) for i in range(200000, 10000000, 200000)]\n",
    "df_2[\"price_range\"] = pd.cut(df_2.price, range(200000, 10100000, 200000), right=False, labels=labels)\n",
    "\n"
   ]
  },
  {
   "cell_type": "code",
   "execution_count": 25,
   "metadata": {},
   "outputs": [],
   "source": [
    "import re"
   ]
  },
  {
   "cell_type": "code",
   "execution_count": 26,
   "metadata": {},
   "outputs": [
    {
     "data": {
      "text/plain": [
       "<bound method NDFrame.head of                 id               type  pricefromapm   price  landsize  \\\n",
       "0       2014974512  ApartmentUnitFlat           0.0  525000       NaN   \n",
       "1       2015745769  ApartmentUnitFlat           1.0  535000       NaN   \n",
       "2       2017078246  ApartmentUnitFlat           1.0  550000       NaN   \n",
       "3       2016447462  ApartmentUnitFlat           0.0  550000      51.0   \n",
       "4       2016605390  ApartmentUnitFlat           0.0  550000      46.0   \n",
       "...            ...                ...           ...     ...       ...   \n",
       "150045  2016721391              Villa           0.0  592500       NaN   \n",
       "150046  2016700045              Villa           0.0  595000     275.0   \n",
       "150047  2017254774              Villa           0.0  603000       NaN   \n",
       "150048  2017053710              Villa           0.0  635000     208.0   \n",
       "150049  2017291280              Villa           0.0  636000       NaN   \n",
       "\n",
       "        price_square   sold_date auction_or_private        suburb  \\\n",
       "0                0.0  2019-03-07     private treaty        SYDNEY   \n",
       "1                0.0  2019-11-08     private treaty        SYDNEY   \n",
       "2                0.0  2021-07-24     private treaty        SYDNEY   \n",
       "3            10784.0  2020-10-12     private treaty        SYDNEY   \n",
       "4            11957.0  2020-11-13     private treaty        SYDNEY   \n",
       "...              ...         ...                ...           ...   \n",
       "150045           0.0  2021-03-10     private treaty  MOUNT DRUITT   \n",
       "150046        2164.0  2021-01-15     private treaty  MOUNT DRUITT   \n",
       "150047           0.0  2021-10-25     private treaty  MOUNT DRUITT   \n",
       "150048        3053.0  2021-06-24     private treaty  MOUNT DRUITT   \n",
       "150049           0.0  2021-09-29     private treaty  MOUNT DRUITT   \n",
       "\n",
       "                   street_address  ...                             agency  \\\n",
       "0            1302/433 Kent Street  ...                        Bryn Fowler   \n",
       "1           1002/38 Bridge Street  ...                        Bryn Fowler   \n",
       "2          96/361-363 Kent Street  ...                      Stephen  Chui   \n",
       "3             101/361 Kent Street  ...                       Ettiene West   \n",
       "4           302/267 Sussex Street  ...                       Ettiene West   \n",
       "...                           ...  ...                                ...   \n",
       "150045          9/58 Janet Street  ...                      Reece Theedam   \n",
       "150046         5/97 Fuller Street  ...                       Khilen Patel   \n",
       "150047  9/530-532 Carlisle Avenue  ...                      Angelo Mavris   \n",
       "150048      11/58-62 Janet Street  ...                        Basel Nahas   \n",
       "150049     7/46-48 O'Brien Street  ...  Vedant Agrawal, Peter Diamantidis   \n",
       "\n",
       "              lat         lng     to_cbd  to_train  local_goverment_area  \\\n",
       "0      -33.871666  151.204666   0.304998  0.203097                Sydney   \n",
       "1      -33.863274  151.210678   0.907467  0.189974                Sydney   \n",
       "2      -33.869274  151.204315   0.368764  0.347857                Sydney   \n",
       "3      -33.869274  151.204330   0.367296  0.346921                Sydney   \n",
       "4      -33.873470  151.203888   0.476576  0.165065                Sydney   \n",
       "...           ...         ...        ...       ...                   ...   \n",
       "150045 -33.779686  150.819550  43.814234  1.082992             Blacktown   \n",
       "150046 -33.774235  150.816162  44.317002  0.599395             Blacktown   \n",
       "150047 -33.774740  150.814560  44.474869  0.738797             Blacktown   \n",
       "150048 -33.779686  150.819550  43.814234  1.082992             Blacktown   \n",
       "150049 -33.759644  150.826233  43.664292  1.164133             Blacktown   \n",
       "\n",
       "              category  time_cat      price_range price_tag  \n",
       "0            apartment    before  400000 - 500000    400000  \n",
       "1            apartment    before  400000 - 500000    400000  \n",
       "2            apartment     after  400000 - 500000    400000  \n",
       "3            apartment     after  400000 - 500000    400000  \n",
       "4            apartment     after  400000 - 500000    400000  \n",
       "...                ...       ...              ...       ...  \n",
       "150045  detached_house     after  400000 - 500000    400000  \n",
       "150046  detached_house     after  400000 - 500000    400000  \n",
       "150047  detached_house     after  600000 - 700000    600000  \n",
       "150048  detached_house     after  600000 - 700000    600000  \n",
       "150049  detached_house     after  600000 - 700000    600000  \n",
       "\n",
       "[150050 rows x 24 columns]>"
      ]
     },
     "execution_count": 26,
     "metadata": {},
     "output_type": "execute_result"
    }
   ],
   "source": [
    "df_2['price_tag'] = df_2['price_range'].str.extract(r'(\\d+)\\s* ', flags=re.I)\n",
    "\n",
    "df_2.head"
   ]
  },
  {
   "cell_type": "code",
   "execution_count": 27,
   "metadata": {},
   "outputs": [
    {
     "data": {
      "text/plain": [
       "dtype('int32')"
      ]
     },
     "execution_count": 27,
     "metadata": {},
     "output_type": "execute_result"
    }
   ],
   "source": [
    "df_2 = df_2.dropna(subset=['price_tag'])\n",
    "df_2['price_tag'].astype('int32').dtypes"
   ]
  },
  {
   "cell_type": "code",
   "execution_count": 8,
   "metadata": {},
   "outputs": [
    {
     "data": {
      "text/plain": [
       "price_range    object\n",
       "count           int64\n",
       "price_tag       int64\n",
       "dtype: object"
      ]
     },
     "execution_count": 8,
     "metadata": {},
     "output_type": "execute_result"
    }
   ],
   "source": [
    "df_plt_1 = sqldf('''\n",
    "\n",
    "SELECT price_range\n",
    "     , COUNT(1) AS count\n",
    "     , price_tag\n",
    "  FROM df_2\n",
    " WHERE sold_date > '2021-03-30' AND category = 'detached_house' AND to_cbd < 30\n",
    " GROUP BY price_range\n",
    "\n",
    "\n",
    "''')\n",
    "df_plt_1['price_tag'] = df_plt_1['price_tag'].astype('int64')\n",
    "df_plt_1 = df_plt_1.sort_values(by=['price_tag'])\n",
    "df_plt_1.dtypes"
   ]
  },
  {
   "cell_type": "code",
   "execution_count": 9,
   "metadata": {},
   "outputs": [
    {
     "data": {
      "text/plain": [
       "price_range    object\n",
       "count           int64\n",
       "price_tag       int64\n",
       "dtype: object"
      ]
     },
     "execution_count": 9,
     "metadata": {},
     "output_type": "execute_result"
    }
   ],
   "source": [
    "df_plt_2 = sqldf('''\n",
    "\n",
    "SELECT price_range\n",
    "     , COUNT(1) AS count\n",
    "     , price_tag\n",
    "  FROM df_2\n",
    " WHERE sold_date BETWEEN '2020-03-31' AND '2021-03-30' AND category = 'detached_house' AND to_cbd < 30\n",
    " GROUP BY price_range\n",
    "\n",
    "\n",
    "''')\n",
    "df_plt_2['price_tag'] = df_plt_2['price_tag'].astype('int64')\n",
    "df_plt_2 = df_plt_2.sort_values(by=['price_tag'])\n",
    "df_plt_2.dtypes"
   ]
  },
  {
   "cell_type": "code",
   "execution_count": 15,
   "metadata": {
    "scrolled": false
   },
   "outputs": [
    {
     "data": {
      "image/png": "[encoded data removed]",
      "text/plain": [
       "<Figure size 1440x720 with 1 Axes>"
      ]
     },
     "metadata": {
      "needs_background": "light"
     },
     "output_type": "display_data"
    }
   ],
   "source": [
    "from matplotlib import pyplot as plt\n",
    "plt.rcParams['figure.figsize'] = [20, 10]\n",
    "tag_2021 = df_plt_1['price_tag'].astype(str)\n",
    "count_2021 = df_plt_1['count']\n",
    "tag_2020 = df_plt_2['price_tag'].astype(str)\n",
    "count_2020 = df_plt_2['count']\n",
    "\n",
    "barwidth = 0.8\n",
    "alpha = 0.4\n",
    "\n",
    "plt.bar(tag_2020,count_2020,barwidth,align='edge', alpha=alpha, label = 'Mar 2020-Mar 2021', color = 'orange')\n",
    "plt.bar(tag_2021,count_2021, barwidth, align='edge', alpha=alpha, label = 'Mar 2021-current', color = 'red')\n",
    "\n",
    "plt.title('Count of property sales sort by price range')\n",
    "plt.xticks(rotation = 45)\n",
    "plt.legend()\n",
    "plt.show()"
   ]
  },
  {
   "cell_type": "markdown",
   "metadata": {},
   "source": [
    "##### 1. properties sold under 1,600,000 has droped significantly.\n",
    "##### 2. Nevertheless there are still a large amount of properties priced under my clients' budget."
   ]
  },
  {
   "cell_type": "markdown",
   "metadata": {},
   "source": [
    "## Location correlationship(to cbd) <a class=\"anchor\" id=\"Location-correlationship\"></a>"
   ]
  },
  {
   "cell_type": "markdown",
   "metadata": {},
   "source": [
    "##### The house price has a less obvious correlation when not considering the land size.\n",
    "##### In this analysis, I divide each house price to its land size as price per square meter.\n",
    "##### To find its correlation to distance to CBD, PolynomialFeatures and LinearRegression will be used to perform modelling."
   ]
  },
  {
   "cell_type": "code",
   "execution_count": 287,
   "metadata": {},
   "outputs": [
    {
     "name": "stdout",
     "output_type": "stream",
     "text": [
      "<bound method NDFrame.head of                 suburb    price     to_cbd to_train_cat\n",
      "0          CASTLE HILL   3083.0  29.999007        since\n",
      "1      BEROWRA HEIGHTS   1930.0  29.997956       before\n",
      "2            FAIRFIELD   1219.0  29.997076       before\n",
      "3           GREYSTANES   1599.0  29.997069        since\n",
      "4           SMITHFIELD    823.0  29.996959       before\n",
      "...                ...      ...        ...          ...\n",
      "48074     DARLINGHURST  15123.0   0.946122       before\n",
      "48075     DARLINGHURST  30392.0   0.945472        since\n",
      "48076     DARLINGHURST  32051.0   0.943417        since\n",
      "48077     DARLINGHURST  26389.0   0.904603        since\n",
      "48078     DARLINGHURST  20732.0   0.887679        since\n",
      "\n",
      "[48079 rows x 4 columns]>\n"
     ]
    }
   ],
   "source": [
    "df_train_2021 = sqldf('''\n",
    "WITH enriched AS(\n",
    "    SELECT price\n",
    "         , price_square\n",
    "         , suburb\n",
    "         , to_cbd\n",
    "         , CASE WHEN sold_date > '2020-03-30' THEN 'since'\n",
    "                WHEN sold_date < '2020-03-31' THEN 'before'\n",
    "           END AS to_train_cat\n",
    "      FROM df\n",
    "     WHERE price_square>0 \n",
    "       AND to_cbd < 30\n",
    "       AND (category = 'detached_house' OR category = 'shared_wall')\n",
    "       \n",
    "       \n",
    ")\n",
    "SELECT suburb\n",
    "     , price_square AS price\n",
    "     , to_cbd\n",
    "     , to_train_cat\n",
    "  FROM enriched\n",
    " ORDER BY to_cbd DESC\n",
    "''')\n",
    "print(df_train_2021.head)"
   ]
  },
  {
   "cell_type": "code",
   "execution_count": 246,
   "metadata": {},
   "outputs": [],
   "source": [
    "df_train_2021 = df_train_2021.sort_values(by = ['to_cbd'])"
   ]
  },
  {
   "cell_type": "code",
   "execution_count": 247,
   "metadata": {},
   "outputs": [],
   "source": [
    "price_since = df_train_2021['price'].where(df_train_2021['to_train_cat']=='since')\n",
    "price_before = df_train_2021['price'].where(df_train_2021['to_train_cat']=='before')\n",
    "cbd_since = df_train_2021['to_cbd'].where(df_train_2021['to_train_cat']=='since')\n",
    "cbd_before = df_train_2021['to_cbd'].where(df_train_2021['to_train_cat']=='before')\n",
    "\n"
   ]
  },
  {
   "cell_type": "code",
   "execution_count": 248,
   "metadata": {},
   "outputs": [],
   "source": [
    "from sklearn.preprocessing import PolynomialFeatures\n",
    "from sklearn.linear_model import LinearRegression\n",
    "import numpy as np"
   ]
  },
  {
   "cell_type": "code",
   "execution_count": 249,
   "metadata": {},
   "outputs": [],
   "source": [
    "cbd_since = cbd_since.to_numpy()\n",
    "price_since= price_since.to_numpy()\n",
    "cbd_before = cbd_before.to_numpy()\n",
    "price_before= price_before.to_numpy()"
   ]
  },
  {
   "cell_type": "code",
   "execution_count": 250,
   "metadata": {},
   "outputs": [
    {
     "name": "stdout",
     "output_type": "stream",
     "text": [
      "(28078, 1)\n",
      "(28078, 1)\n"
     ]
    }
   ],
   "source": [
    "cbd_since = cbd_since[~np.isnan(cbd_since)]\n",
    "price_since = price_since[~np.isnan(price_since)]\n",
    "\n",
    "price_since = np.reshape(price_since, (len(cbd_since),1))\n",
    "cbd_since = np.reshape(cbd_since, (len(price_since),1))\n",
    "print(cbd_since.shape)\n",
    "print(price_since.shape)"
   ]
  },
  {
   "cell_type": "code",
   "execution_count": 251,
   "metadata": {},
   "outputs": [
    {
     "name": "stdout",
     "output_type": "stream",
     "text": [
      "(19970, 1)\n",
      "(19970, 1)\n"
     ]
    }
   ],
   "source": [
    "cbd_before = cbd_before[~np.isnan(cbd_before)]\n",
    "price_before = price_before[~np.isnan(price_before)]\n",
    "price_before = np.reshape(price_before, (len(price_before),1))\n",
    "cbd_before = np.reshape(cbd_before,(len(cbd_before),1))\n",
    "print(cbd_before.shape)\n",
    "print(price_before.shape)"
   ]
  },
  {
   "cell_type": "code",
   "execution_count": 286,
   "metadata": {},
   "outputs": [
    {
     "data": {
      "image/png": "[encoded data removed]",
      "text/plain": [
       "<Figure size 2160x720 with 1 Axes>"
      ]
     },
     "metadata": {
      "needs_background": "light"
     },
     "output_type": "display_data"
    }
   ],
   "source": [
    "alpha = 0.4\n",
    "cbd_since_poly = 1/(np.sqrt(cbd_since))\n",
    "cbd_before_poly = 1/(np.sqrt(cbd_before))\n",
    "\n",
    "model = LinearRegression()\n",
    "model.fit(cbd_since, price_since)\n",
    "plt.plot(cbd_since, price_since,'b.',label = 'samples', alpha = alpha, markevery=35)\n",
    "poly = PolynomialFeatures(1)\n",
    "poly_cbd_since = poly.fit_transform(cbd_since_poly)\n",
    "model = LinearRegression()\n",
    "model.fit(poly_cbd_since, price_since)\n",
    "plt.plot(cbd_since, model.predict(poly.fit_transform(cbd_since_poly)), 'b', label = 'since covid')\n",
    "\n",
    "model = LinearRegression()\n",
    "model.fit(cbd_before, price_before)\n",
    "plt.plot(cbd_before, price_before,'r.',label = 'samples', alpha = alpha, markevery=35)\n",
    "poly = PolynomialFeatures(1)\n",
    "poly_cbd_before = poly.fit_transform(cbd_before_poly)\n",
    "model = LinearRegression()\n",
    "model.fit(poly_cbd_before, price_before)\n",
    "plt.plot(cbd_before, model.predict(poly.fit_transform(cbd_before_poly)), 'r', label = 'before covid')\n",
    "plt.title('price by distance to cbd, before and since covid (Detached & Semi-detached House) ')\n",
    "plt.xlabel('distance to cbd')\n",
    "plt.ylabel('price/square meter')\n",
    "plt.legend()\n",
    "\n",
    "plt.show()"
   ]
  },
  {
   "cell_type": "markdown",
   "metadata": {},
   "source": [
    "##### Price per square meter for detached & semi-detached houses increasing with the decrease of distance to CBD. And climbing even faster when close to CBD."
   ]
  },
  {
   "cell_type": "markdown",
   "metadata": {},
   "source": [
    "## So which suburbs should we target? <a class=\"anchor\" id=\"So-which-suburbs-should-we-target?\"></a>\n",
    "\n",
    "##### With a budget of 1.6million, my client wants to buy a single family home with at least 4 bedrooms 2 baths and 2 parkings. And she wants to have it as close to CBD as possible.\n",
    "##### I filled the data by limit records to the recent two quarters. So the result has stronger correlationship with current market."
   ]
  },
  {
   "cell_type": "code",
   "execution_count": 316,
   "metadata": {},
   "outputs": [
    {
     "data": {
      "text/html": [
       "<div>\n",
       "<style scoped>\n",
       "    .dataframe tbody tr th:only-of-type {\n",
       "        vertical-align: middle;\n",
       "    }\n",
       "\n",
       "    .dataframe tbody tr th {\n",
       "        vertical-align: top;\n",
       "    }\n",
       "\n",
       "    .dataframe thead th {\n",
       "        text-align: right;\n",
       "    }\n",
       "</style>\n",
       "<table border=\"1\" class=\"dataframe\">\n",
       "  <thead>\n",
       "    <tr style=\"text-align: right;\">\n",
       "      <th></th>\n",
       "      <th>count</th>\n",
       "      <th>suburb</th>\n",
       "      <th>postcode</th>\n",
       "      <th>distance</th>\n",
       "    </tr>\n",
       "  </thead>\n",
       "  <tbody>\n",
       "    <tr>\n",
       "      <th>0</th>\n",
       "      <td>1</td>\n",
       "      <td>TURRELLA</td>\n",
       "      <td>2205</td>\n",
       "      <td>9.456560</td>\n",
       "    </tr>\n",
       "    <tr>\n",
       "      <th>1</th>\n",
       "      <td>2</td>\n",
       "      <td>BANKSIA</td>\n",
       "      <td>2216</td>\n",
       "      <td>10.577908</td>\n",
       "    </tr>\n",
       "    <tr>\n",
       "      <th>2</th>\n",
       "      <td>1</td>\n",
       "      <td>CANTERBURY</td>\n",
       "      <td>2193</td>\n",
       "      <td>11.772732</td>\n",
       "    </tr>\n",
       "    <tr>\n",
       "      <th>3</th>\n",
       "      <td>1</td>\n",
       "      <td>ROCKDALE</td>\n",
       "      <td>2216</td>\n",
       "      <td>12.205708</td>\n",
       "    </tr>\n",
       "    <tr>\n",
       "      <th>4</th>\n",
       "      <td>2</td>\n",
       "      <td>CAMPSIE</td>\n",
       "      <td>2194</td>\n",
       "      <td>12.794751</td>\n",
       "    </tr>\n",
       "    <tr>\n",
       "      <th>5</th>\n",
       "      <td>2</td>\n",
       "      <td>STRATHFIELD SOUTH</td>\n",
       "      <td>2136</td>\n",
       "      <td>13.145604</td>\n",
       "    </tr>\n",
       "    <tr>\n",
       "      <th>6</th>\n",
       "      <td>2</td>\n",
       "      <td>BEXLEY</td>\n",
       "      <td>2207</td>\n",
       "      <td>13.641403</td>\n",
       "    </tr>\n",
       "    <tr>\n",
       "      <th>7</th>\n",
       "      <td>1</td>\n",
       "      <td>BEVERLEY PARK</td>\n",
       "      <td>2217</td>\n",
       "      <td>13.990004</td>\n",
       "    </tr>\n",
       "    <tr>\n",
       "      <th>8</th>\n",
       "      <td>1</td>\n",
       "      <td>CARLTON</td>\n",
       "      <td>2218</td>\n",
       "      <td>14.189757</td>\n",
       "    </tr>\n",
       "    <tr>\n",
       "      <th>9</th>\n",
       "      <td>1</td>\n",
       "      <td>BELFIELD</td>\n",
       "      <td>2191</td>\n",
       "      <td>14.503208</td>\n",
       "    </tr>\n",
       "    <tr>\n",
       "      <th>10</th>\n",
       "      <td>1</td>\n",
       "      <td>BELMORE</td>\n",
       "      <td>2192</td>\n",
       "      <td>14.667577</td>\n",
       "    </tr>\n",
       "    <tr>\n",
       "      <th>11</th>\n",
       "      <td>2</td>\n",
       "      <td>KINGSGROVE</td>\n",
       "      <td>2208</td>\n",
       "      <td>14.754494</td>\n",
       "    </tr>\n",
       "    <tr>\n",
       "      <th>12</th>\n",
       "      <td>4</td>\n",
       "      <td>LAKEMBA</td>\n",
       "      <td>2195</td>\n",
       "      <td>15.039658</td>\n",
       "    </tr>\n",
       "    <tr>\n",
       "      <th>13</th>\n",
       "      <td>2</td>\n",
       "      <td>BEVERLY HILLS</td>\n",
       "      <td>2209</td>\n",
       "      <td>15.945601</td>\n",
       "    </tr>\n",
       "    <tr>\n",
       "      <th>14</th>\n",
       "      <td>1</td>\n",
       "      <td>HOMEBUSH WEST</td>\n",
       "      <td>2140</td>\n",
       "      <td>16.123123</td>\n",
       "    </tr>\n",
       "    <tr>\n",
       "      <th>15</th>\n",
       "      <td>5</td>\n",
       "      <td>ROSELANDS</td>\n",
       "      <td>2196</td>\n",
       "      <td>16.199130</td>\n",
       "    </tr>\n",
       "    <tr>\n",
       "      <th>16</th>\n",
       "      <td>11</td>\n",
       "      <td>GREENACRE</td>\n",
       "      <td>2190</td>\n",
       "      <td>16.435157</td>\n",
       "    </tr>\n",
       "    <tr>\n",
       "      <th>17</th>\n",
       "      <td>3</td>\n",
       "      <td>WILEY PARK</td>\n",
       "      <td>2195</td>\n",
       "      <td>16.560295</td>\n",
       "    </tr>\n",
       "    <tr>\n",
       "      <th>18</th>\n",
       "      <td>1</td>\n",
       "      <td>NEWINGTON</td>\n",
       "      <td>2127</td>\n",
       "      <td>16.620343</td>\n",
       "    </tr>\n",
       "    <tr>\n",
       "      <th>19</th>\n",
       "      <td>2</td>\n",
       "      <td>PENSHURST</td>\n",
       "      <td>2222</td>\n",
       "      <td>17.095665</td>\n",
       "    </tr>\n",
       "  </tbody>\n",
       "</table>\n",
       "</div>"
      ],
      "text/plain": [
       "    count             suburb  postcode   distance\n",
       "0       1           TURRELLA      2205   9.456560\n",
       "1       2            BANKSIA      2216  10.577908\n",
       "2       1         CANTERBURY      2193  11.772732\n",
       "3       1           ROCKDALE      2216  12.205708\n",
       "4       2            CAMPSIE      2194  12.794751\n",
       "5       2  STRATHFIELD SOUTH      2136  13.145604\n",
       "6       2             BEXLEY      2207  13.641403\n",
       "7       1      BEVERLEY PARK      2217  13.990004\n",
       "8       1            CARLTON      2218  14.189757\n",
       "9       1           BELFIELD      2191  14.503208\n",
       "10      1            BELMORE      2192  14.667577\n",
       "11      2         KINGSGROVE      2208  14.754494\n",
       "12      4            LAKEMBA      2195  15.039658\n",
       "13      2      BEVERLY HILLS      2209  15.945601\n",
       "14      1      HOMEBUSH WEST      2140  16.123123\n",
       "15      5          ROSELANDS      2196  16.199130\n",
       "16     11          GREENACRE      2190  16.435157\n",
       "17      3         WILEY PARK      2195  16.560295\n",
       "18      1          NEWINGTON      2127  16.620343\n",
       "19      2          PENSHURST      2222  17.095665"
      ]
     },
     "execution_count": 316,
     "metadata": {},
     "output_type": "execute_result"
    }
   ],
   "source": [
    "df_home = sqldf('''\n",
    "\n",
    "SELECT COUNT(*) AS count\n",
    "     , suburb\n",
    "     , postcode\n",
    "     , AVG(to_cbd) AS distance\n",
    "  FROM df\n",
    " WHERE sold_date > '2021-09-30'\n",
    "   AND beds >= 4\n",
    "   AND baths >=2\n",
    "   AND parking >=2\n",
    "   AND category = 'detached_house'\n",
    "   AND price <= 1600000\n",
    " GROUP BY suburb\n",
    " ORDER BY distance\n",
    "\n",
    "\n",
    "''')\n",
    "df_home.head(20)"
   ]
  },
  {
   "cell_type": "markdown",
   "metadata": {},
   "source": [
    "![march-current](https://i.ibb.co/wKQrdV9/final.png)"
   ]
  },
  {
   "cell_type": "markdown",
   "metadata": {},
   "source": [
    "## Conclusion <a class=\"anchor\" id=\"Conclusion\"></a>\n",
    "##### Although the sold price from source web has increased significantly, there are still a lot of opportunities to find a single-family home for under 1.6 million in suburbs that are 10 km away from Sydney CBD.\n",
    "##### The suggestion would be starting from suburbs relatively close to the city from southern suburbs like Rockdale and Banksi to inner west suburbs such as Strathfield South.\n",
    "##### If it has been found that the price has been growing even higher in the last few months. Then we should also consider suburbs like Roselands and Greenacre."
   ]
  }
 ],
 "metadata": {
  "interpreter": {
   "hash": "16e3b9799879e24d92f4a6010a8e3548b08661ef551ca0704bdd958592137b13"
  },
  "kernelspec": {
   "display_name": "Python 3 (ipykernel)",
   "language": "python",
   "name": "python3"
  },
  "language_info": {
   "codemirror_mode": {
    "name": "ipython",
    "version": 3
   },
   "file_extension": ".py",
   "mimetype": "text/x-python",
   "name": "python",
   "nbconvert_exporter": "python",
   "pygments_lexer": "ipython3",
   "version": "3.9.7"
  }
 },
 "nbformat": 4,
 "nbformat_minor": 2
}
